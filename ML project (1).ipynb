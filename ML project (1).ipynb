{
 "cells": [
  {
   "cell_type": "code",
   "execution_count": 136,
   "id": "8a8e775f-eb1d-41a6-a302-ea51b154bb58",
   "metadata": {},
   "outputs": [],
   "source": [
    "import pandas as pd\n",
    "import numpy as np\n",
    "from matplotlib import pyplot as plt"
   ]
  },
  {
   "cell_type": "code",
   "execution_count": 137,
   "id": "2c0bcbc2-6c91-44f7-b03a-b0b2fb468327",
   "metadata": {
    "scrolled": true
   },
   "outputs": [
    {
     "data": {
      "text/html": [
       "<div>\n",
       "<style scoped>\n",
       "    .dataframe tbody tr th:only-of-type {\n",
       "        vertical-align: middle;\n",
       "    }\n",
       "\n",
       "    .dataframe tbody tr th {\n",
       "        vertical-align: top;\n",
       "    }\n",
       "\n",
       "    .dataframe thead th {\n",
       "        text-align: right;\n",
       "    }\n",
       "</style>\n",
       "<table border=\"1\" class=\"dataframe\">\n",
       "  <thead>\n",
       "    <tr style=\"text-align: right;\">\n",
       "      <th></th>\n",
       "      <th>Id</th>\n",
       "      <th>groupId</th>\n",
       "      <th>matchId</th>\n",
       "      <th>assists</th>\n",
       "      <th>boosts</th>\n",
       "      <th>damageDealt</th>\n",
       "      <th>DBNOs</th>\n",
       "      <th>headshotKills</th>\n",
       "      <th>heals</th>\n",
       "      <th>killPlace</th>\n",
       "      <th>...</th>\n",
       "      <th>revives</th>\n",
       "      <th>rideDistance</th>\n",
       "      <th>roadKills</th>\n",
       "      <th>swimDistance</th>\n",
       "      <th>teamKills</th>\n",
       "      <th>vehicleDestroys</th>\n",
       "      <th>walkDistance</th>\n",
       "      <th>weaponsAcquired</th>\n",
       "      <th>winPoints</th>\n",
       "      <th>winPlacePerc</th>\n",
       "    </tr>\n",
       "  </thead>\n",
       "  <tbody>\n",
       "    <tr>\n",
       "      <th>0</th>\n",
       "      <td>7f96b2f878858a</td>\n",
       "      <td>4d4b580de459be</td>\n",
       "      <td>a10357fd1a4a91</td>\n",
       "      <td>0</td>\n",
       "      <td>0</td>\n",
       "      <td>0.00</td>\n",
       "      <td>0</td>\n",
       "      <td>0</td>\n",
       "      <td>0</td>\n",
       "      <td>60</td>\n",
       "      <td>...</td>\n",
       "      <td>0</td>\n",
       "      <td>0.0000</td>\n",
       "      <td>0</td>\n",
       "      <td>0.00</td>\n",
       "      <td>0</td>\n",
       "      <td>0</td>\n",
       "      <td>244.80</td>\n",
       "      <td>1</td>\n",
       "      <td>1466</td>\n",
       "      <td>0.4444</td>\n",
       "    </tr>\n",
       "    <tr>\n",
       "      <th>1</th>\n",
       "      <td>eef90569b9d03c</td>\n",
       "      <td>684d5656442f9e</td>\n",
       "      <td>aeb375fc57110c</td>\n",
       "      <td>0</td>\n",
       "      <td>0</td>\n",
       "      <td>91.47</td>\n",
       "      <td>0</td>\n",
       "      <td>0</td>\n",
       "      <td>0</td>\n",
       "      <td>57</td>\n",
       "      <td>...</td>\n",
       "      <td>0</td>\n",
       "      <td>0.0045</td>\n",
       "      <td>0</td>\n",
       "      <td>11.04</td>\n",
       "      <td>0</td>\n",
       "      <td>0</td>\n",
       "      <td>1434.00</td>\n",
       "      <td>5</td>\n",
       "      <td>0</td>\n",
       "      <td>0.6400</td>\n",
       "    </tr>\n",
       "    <tr>\n",
       "      <th>2</th>\n",
       "      <td>1eaf90ac73de72</td>\n",
       "      <td>6a4a42c3245a74</td>\n",
       "      <td>110163d8bb94ae</td>\n",
       "      <td>1</td>\n",
       "      <td>0</td>\n",
       "      <td>68.00</td>\n",
       "      <td>0</td>\n",
       "      <td>0</td>\n",
       "      <td>0</td>\n",
       "      <td>47</td>\n",
       "      <td>...</td>\n",
       "      <td>0</td>\n",
       "      <td>0.0000</td>\n",
       "      <td>0</td>\n",
       "      <td>0.00</td>\n",
       "      <td>0</td>\n",
       "      <td>0</td>\n",
       "      <td>161.80</td>\n",
       "      <td>2</td>\n",
       "      <td>0</td>\n",
       "      <td>0.7755</td>\n",
       "    </tr>\n",
       "    <tr>\n",
       "      <th>3</th>\n",
       "      <td>4616d365dd2853</td>\n",
       "      <td>a930a9c79cd721</td>\n",
       "      <td>f1f1f4ef412d7e</td>\n",
       "      <td>0</td>\n",
       "      <td>0</td>\n",
       "      <td>32.90</td>\n",
       "      <td>0</td>\n",
       "      <td>0</td>\n",
       "      <td>0</td>\n",
       "      <td>75</td>\n",
       "      <td>...</td>\n",
       "      <td>0</td>\n",
       "      <td>0.0000</td>\n",
       "      <td>0</td>\n",
       "      <td>0.00</td>\n",
       "      <td>0</td>\n",
       "      <td>0</td>\n",
       "      <td>202.70</td>\n",
       "      <td>3</td>\n",
       "      <td>0</td>\n",
       "      <td>0.1667</td>\n",
       "    </tr>\n",
       "    <tr>\n",
       "      <th>4</th>\n",
       "      <td>315c96c26c9aac</td>\n",
       "      <td>de04010b3458dd</td>\n",
       "      <td>6dc8ff871e21e6</td>\n",
       "      <td>0</td>\n",
       "      <td>0</td>\n",
       "      <td>100.00</td>\n",
       "      <td>0</td>\n",
       "      <td>0</td>\n",
       "      <td>0</td>\n",
       "      <td>45</td>\n",
       "      <td>...</td>\n",
       "      <td>0</td>\n",
       "      <td>0.0000</td>\n",
       "      <td>0</td>\n",
       "      <td>0.00</td>\n",
       "      <td>0</td>\n",
       "      <td>0</td>\n",
       "      <td>49.75</td>\n",
       "      <td>2</td>\n",
       "      <td>0</td>\n",
       "      <td>0.1875</td>\n",
       "    </tr>\n",
       "  </tbody>\n",
       "</table>\n",
       "<p>5 rows × 29 columns</p>\n",
       "</div>"
      ],
      "text/plain": [
       "               Id         groupId         matchId  assists  boosts  \\\n",
       "0  7f96b2f878858a  4d4b580de459be  a10357fd1a4a91        0       0   \n",
       "1  eef90569b9d03c  684d5656442f9e  aeb375fc57110c        0       0   \n",
       "2  1eaf90ac73de72  6a4a42c3245a74  110163d8bb94ae        1       0   \n",
       "3  4616d365dd2853  a930a9c79cd721  f1f1f4ef412d7e        0       0   \n",
       "4  315c96c26c9aac  de04010b3458dd  6dc8ff871e21e6        0       0   \n",
       "\n",
       "   damageDealt  DBNOs  headshotKills  heals  killPlace  ...  revives  \\\n",
       "0         0.00      0              0      0         60  ...        0   \n",
       "1        91.47      0              0      0         57  ...        0   \n",
       "2        68.00      0              0      0         47  ...        0   \n",
       "3        32.90      0              0      0         75  ...        0   \n",
       "4       100.00      0              0      0         45  ...        0   \n",
       "\n",
       "   rideDistance  roadKills  swimDistance  teamKills vehicleDestroys  \\\n",
       "0        0.0000          0          0.00          0               0   \n",
       "1        0.0045          0         11.04          0               0   \n",
       "2        0.0000          0          0.00          0               0   \n",
       "3        0.0000          0          0.00          0               0   \n",
       "4        0.0000          0          0.00          0               0   \n",
       "\n",
       "   walkDistance  weaponsAcquired  winPoints  winPlacePerc  \n",
       "0        244.80                1       1466        0.4444  \n",
       "1       1434.00                5          0        0.6400  \n",
       "2        161.80                2          0        0.7755  \n",
       "3        202.70                3          0        0.1667  \n",
       "4         49.75                2          0        0.1875  \n",
       "\n",
       "[5 rows x 29 columns]"
      ]
     },
     "execution_count": 137,
     "metadata": {},
     "output_type": "execute_result"
    }
   ],
   "source": [
    "df=pd.read_csv(\"BGMI Game Dataset.csv\")\n",
    "df.head()"
   ]
  },
  {
   "cell_type": "code",
   "execution_count": 138,
   "id": "40f49909-0bf0-4bd6-b4f6-192812d187e3",
   "metadata": {},
   "outputs": [
    {
     "data": {
      "text/plain": [
       "(4446966, 29)"
      ]
     },
     "execution_count": 138,
     "metadata": {},
     "output_type": "execute_result"
    }
   ],
   "source": [
    "df.shape"
   ]
  },
  {
   "cell_type": "code",
   "execution_count": 139,
   "id": "fab71234-8a0a-4371-9f3a-8eaed86458f4",
   "metadata": {},
   "outputs": [
    {
     "data": {
      "text/plain": [
       "Index(['Id', 'groupId', 'matchId', 'assists', 'boosts', 'damageDealt', 'DBNOs',\n",
       "       'headshotKills', 'heals', 'killPlace', 'killPoints', 'kills',\n",
       "       'killStreaks', 'longestKill', 'matchDuration', 'matchType', 'maxPlace',\n",
       "       'numGroups', 'rankPoints', 'revives', 'rideDistance', 'roadKills',\n",
       "       'swimDistance', 'teamKills', 'vehicleDestroys', 'walkDistance',\n",
       "       'weaponsAcquired', 'winPoints', 'winPlacePerc'],\n",
       "      dtype='object')"
      ]
     },
     "execution_count": 139,
     "metadata": {},
     "output_type": "execute_result"
    }
   ],
   "source": [
    "df.columns"
   ]
  },
  {
   "cell_type": "code",
   "execution_count": 206,
   "id": "f4b3a790-76e9-4e5f-8e38-f7777d7a447e",
   "metadata": {},
   "outputs": [
    {
     "data": {
      "text/plain": [
       "<bound method DataFrame.info of                      Id         groupId         matchId  assists  boosts  \\\n",
       "0        7f96b2f878858a  4d4b580de459be  a10357fd1a4a91        0       0   \n",
       "1        eef90569b9d03c  684d5656442f9e  aeb375fc57110c        0       0   \n",
       "2        1eaf90ac73de72  6a4a42c3245a74  110163d8bb94ae        1       0   \n",
       "3        4616d365dd2853  a930a9c79cd721  f1f1f4ef412d7e        0       0   \n",
       "4        315c96c26c9aac  de04010b3458dd  6dc8ff871e21e6        0       0   \n",
       "...                 ...             ...             ...      ...     ...   \n",
       "4446961  afff7f652dbc10  d238e426f50de7  18492834ce5635        0       0   \n",
       "4446962  f4197cf374e6c0  408cdb5c46b2ac  ee854b837376d9        0       1   \n",
       "4446963  e1948b1295c88a  e26ac84bdf7cef  6d0cd12784f1ab        0       0   \n",
       "4446964  cc032cdd73b7ac  c2223f35411394  c9c701d0ad758a        0       4   \n",
       "4446965  0d8e7ed728b6fd  8c74f72fedf5ff  62a16aabcc095c        0       2   \n",
       "\n",
       "         damageDealt  DBNOs  headshotKills  heals  killPlace  ...  revives  \\\n",
       "0               0.00      0              0      0         60  ...        0   \n",
       "1              91.47      0              0      0         57  ...        0   \n",
       "2              68.00      0              0      0         47  ...        0   \n",
       "3              32.90      0              0      0         75  ...        0   \n",
       "4             100.00      0              0      0         45  ...        0   \n",
       "...              ...    ...            ...    ...        ...  ...      ...   \n",
       "4446961         0.00      0              0      0         74  ...        0   \n",
       "4446962        44.15      0              0      0         69  ...        0   \n",
       "4446963        59.06      0              0      0         66  ...        0   \n",
       "4446964       180.40      1              1      2         11  ...        2   \n",
       "4446965       268.00      0              0      1         18  ...        0   \n",
       "\n",
       "         rideDistance  roadKills  swimDistance  teamKills vehicleDestroys  \\\n",
       "0              0.0000          0         0.000          0               0   \n",
       "1              0.0045          0        11.040          0               0   \n",
       "2              0.0000          0         0.000          0               0   \n",
       "3              0.0000          0         0.000          0               0   \n",
       "4              0.0000          0         0.000          0               0   \n",
       "...               ...        ...           ...        ...             ...   \n",
       "4446961     1292.0000          0         0.000          0               0   \n",
       "4446962        0.0000          0         0.000          0               0   \n",
       "4446963        0.0000          0         2.184          0               0   \n",
       "4446964        0.0000          0         0.000          0               0   \n",
       "4446965     1369.0000          0         0.000          0               0   \n",
       "\n",
       "         walkDistance  weaponsAcquired  winPoints  winPlacePerc  \n",
       "0              244.80                1       1466        0.4444  \n",
       "1             1434.00                5          0        0.6400  \n",
       "2              161.80                2          0        0.7755  \n",
       "3              202.70                3          0        0.1667  \n",
       "4               49.75                2          0        0.1875  \n",
       "...               ...              ...        ...           ...  \n",
       "4446961       1019.00                3       1507        0.1786  \n",
       "4446962         81.70                6          0        0.2935  \n",
       "4446963        788.70                4          0        0.4815  \n",
       "4446964       2748.00                8          0        0.8000  \n",
       "4446965       1244.00                5          0        0.5464  \n",
       "\n",
       "[4446966 rows x 29 columns]>"
      ]
     },
     "execution_count": 206,
     "metadata": {},
     "output_type": "execute_result"
    }
   ],
   "source": [
    "df.info"
   ]
  },
  {
   "cell_type": "code",
   "execution_count": 209,
   "id": "960ba379-d536-40b1-b2c0-93f70c347eb8",
   "metadata": {},
   "outputs": [],
   "source": [
    "#Sampling"
   ]
  },
  {
   "cell_type": "code",
   "execution_count": 140,
   "id": "dade970e-f188-4b98-aa4e-f6606905f411",
   "metadata": {},
   "outputs": [
    {
     "data": {
      "text/html": [
       "<div>\n",
       "<style scoped>\n",
       "    .dataframe tbody tr th:only-of-type {\n",
       "        vertical-align: middle;\n",
       "    }\n",
       "\n",
       "    .dataframe tbody tr th {\n",
       "        vertical-align: top;\n",
       "    }\n",
       "\n",
       "    .dataframe thead th {\n",
       "        text-align: right;\n",
       "    }\n",
       "</style>\n",
       "<table border=\"1\" class=\"dataframe\">\n",
       "  <thead>\n",
       "    <tr style=\"text-align: right;\">\n",
       "      <th></th>\n",
       "      <th>assists</th>\n",
       "      <th>boosts</th>\n",
       "      <th>damageDealt</th>\n",
       "      <th>DBNOs</th>\n",
       "      <th>headshotKills</th>\n",
       "      <th>heals</th>\n",
       "      <th>killPlace</th>\n",
       "      <th>killPoints</th>\n",
       "      <th>kills</th>\n",
       "    </tr>\n",
       "  </thead>\n",
       "  <tbody>\n",
       "    <tr>\n",
       "      <th>0</th>\n",
       "      <td>0</td>\n",
       "      <td>0</td>\n",
       "      <td>0.00</td>\n",
       "      <td>0</td>\n",
       "      <td>0</td>\n",
       "      <td>0</td>\n",
       "      <td>60</td>\n",
       "      <td>1241</td>\n",
       "      <td>0</td>\n",
       "    </tr>\n",
       "    <tr>\n",
       "      <th>1</th>\n",
       "      <td>0</td>\n",
       "      <td>0</td>\n",
       "      <td>91.47</td>\n",
       "      <td>0</td>\n",
       "      <td>0</td>\n",
       "      <td>0</td>\n",
       "      <td>57</td>\n",
       "      <td>0</td>\n",
       "      <td>0</td>\n",
       "    </tr>\n",
       "    <tr>\n",
       "      <th>2</th>\n",
       "      <td>1</td>\n",
       "      <td>0</td>\n",
       "      <td>68.00</td>\n",
       "      <td>0</td>\n",
       "      <td>0</td>\n",
       "      <td>0</td>\n",
       "      <td>47</td>\n",
       "      <td>0</td>\n",
       "      <td>0</td>\n",
       "    </tr>\n",
       "    <tr>\n",
       "      <th>3</th>\n",
       "      <td>0</td>\n",
       "      <td>0</td>\n",
       "      <td>32.90</td>\n",
       "      <td>0</td>\n",
       "      <td>0</td>\n",
       "      <td>0</td>\n",
       "      <td>75</td>\n",
       "      <td>0</td>\n",
       "      <td>0</td>\n",
       "    </tr>\n",
       "    <tr>\n",
       "      <th>4</th>\n",
       "      <td>0</td>\n",
       "      <td>0</td>\n",
       "      <td>100.00</td>\n",
       "      <td>0</td>\n",
       "      <td>0</td>\n",
       "      <td>0</td>\n",
       "      <td>45</td>\n",
       "      <td>0</td>\n",
       "      <td>1</td>\n",
       "    </tr>\n",
       "  </tbody>\n",
       "</table>\n",
       "</div>"
      ],
      "text/plain": [
       "   assists  boosts  damageDealt  DBNOs  headshotKills  heals  killPlace  \\\n",
       "0        0       0         0.00      0              0      0         60   \n",
       "1        0       0        91.47      0              0      0         57   \n",
       "2        1       0        68.00      0              0      0         47   \n",
       "3        0       0        32.90      0              0      0         75   \n",
       "4        0       0       100.00      0              0      0         45   \n",
       "\n",
       "   killPoints  kills  \n",
       "0        1241      0  \n",
       "1           0      0  \n",
       "2           0      0  \n",
       "3           0      0  \n",
       "4           0      1  "
      ]
     },
     "execution_count": 140,
     "metadata": {},
     "output_type": "execute_result"
    }
   ],
   "source": [
    "dff0=df[['assists', 'boosts', 'damageDealt', 'DBNOs', 'headshotKills', 'heals', 'killPlace', 'killPoints', 'kills']]\n",
    "dff0.head()"
   ]
  },
  {
   "cell_type": "code",
   "execution_count": 141,
   "id": "efab9a7c-300c-4063-8429-6cdae8cf4f7c",
   "metadata": {},
   "outputs": [
    {
     "data": {
      "text/html": [
       "<div>\n",
       "<style scoped>\n",
       "    .dataframe tbody tr th:only-of-type {\n",
       "        vertical-align: middle;\n",
       "    }\n",
       "\n",
       "    .dataframe tbody tr th {\n",
       "        vertical-align: top;\n",
       "    }\n",
       "\n",
       "    .dataframe thead th {\n",
       "        text-align: right;\n",
       "    }\n",
       "</style>\n",
       "<table border=\"1\" class=\"dataframe\">\n",
       "  <thead>\n",
       "    <tr style=\"text-align: right;\">\n",
       "      <th></th>\n",
       "      <th>killStreaks</th>\n",
       "      <th>longestKill</th>\n",
       "      <th>matchDuration</th>\n",
       "      <th>matchType</th>\n",
       "      <th>maxPlace</th>\n",
       "      <th>numGroups</th>\n",
       "      <th>rankPoints</th>\n",
       "      <th>revives</th>\n",
       "      <th>rideDistance</th>\n",
       "      <th>roadKills</th>\n",
       "    </tr>\n",
       "  </thead>\n",
       "  <tbody>\n",
       "    <tr>\n",
       "      <th>0</th>\n",
       "      <td>0</td>\n",
       "      <td>0.00</td>\n",
       "      <td>1306</td>\n",
       "      <td>squad-fpp</td>\n",
       "      <td>28</td>\n",
       "      <td>26</td>\n",
       "      <td>-1</td>\n",
       "      <td>0</td>\n",
       "      <td>0.0000</td>\n",
       "      <td>0</td>\n",
       "    </tr>\n",
       "    <tr>\n",
       "      <th>1</th>\n",
       "      <td>0</td>\n",
       "      <td>0.00</td>\n",
       "      <td>1777</td>\n",
       "      <td>squad-fpp</td>\n",
       "      <td>26</td>\n",
       "      <td>25</td>\n",
       "      <td>1484</td>\n",
       "      <td>0</td>\n",
       "      <td>0.0045</td>\n",
       "      <td>0</td>\n",
       "    </tr>\n",
       "    <tr>\n",
       "      <th>2</th>\n",
       "      <td>0</td>\n",
       "      <td>0.00</td>\n",
       "      <td>1318</td>\n",
       "      <td>duo</td>\n",
       "      <td>50</td>\n",
       "      <td>47</td>\n",
       "      <td>1491</td>\n",
       "      <td>0</td>\n",
       "      <td>0.0000</td>\n",
       "      <td>0</td>\n",
       "    </tr>\n",
       "    <tr>\n",
       "      <th>3</th>\n",
       "      <td>0</td>\n",
       "      <td>0.00</td>\n",
       "      <td>1436</td>\n",
       "      <td>squad-fpp</td>\n",
       "      <td>31</td>\n",
       "      <td>30</td>\n",
       "      <td>1408</td>\n",
       "      <td>0</td>\n",
       "      <td>0.0000</td>\n",
       "      <td>0</td>\n",
       "    </tr>\n",
       "    <tr>\n",
       "      <th>4</th>\n",
       "      <td>1</td>\n",
       "      <td>58.53</td>\n",
       "      <td>1424</td>\n",
       "      <td>solo-fpp</td>\n",
       "      <td>97</td>\n",
       "      <td>95</td>\n",
       "      <td>1560</td>\n",
       "      <td>0</td>\n",
       "      <td>0.0000</td>\n",
       "      <td>0</td>\n",
       "    </tr>\n",
       "  </tbody>\n",
       "</table>\n",
       "</div>"
      ],
      "text/plain": [
       "   killStreaks  longestKill  matchDuration  matchType  maxPlace  numGroups  \\\n",
       "0            0         0.00           1306  squad-fpp        28         26   \n",
       "1            0         0.00           1777  squad-fpp        26         25   \n",
       "2            0         0.00           1318        duo        50         47   \n",
       "3            0         0.00           1436  squad-fpp        31         30   \n",
       "4            1        58.53           1424   solo-fpp        97         95   \n",
       "\n",
       "   rankPoints  revives  rideDistance  roadKills  \n",
       "0          -1        0        0.0000          0  \n",
       "1        1484        0        0.0045          0  \n",
       "2        1491        0        0.0000          0  \n",
       "3        1408        0        0.0000          0  \n",
       "4        1560        0        0.0000          0  "
      ]
     },
     "execution_count": 141,
     "metadata": {},
     "output_type": "execute_result"
    }
   ],
   "source": [
    "dff1=df[['killStreaks', 'longestKill', 'matchDuration', 'matchType', 'maxPlace','numGroups', 'rankPoints', 'revives', 'rideDistance', 'roadKills']]\n",
    "dff1.head()"
   ]
  },
  {
   "cell_type": "code",
   "execution_count": 142,
   "id": "9783d292-24ab-457b-aa1f-20f3073f9110",
   "metadata": {},
   "outputs": [
    {
     "data": {
      "text/html": [
       "<div>\n",
       "<style scoped>\n",
       "    .dataframe tbody tr th:only-of-type {\n",
       "        vertical-align: middle;\n",
       "    }\n",
       "\n",
       "    .dataframe tbody tr th {\n",
       "        vertical-align: top;\n",
       "    }\n",
       "\n",
       "    .dataframe thead th {\n",
       "        text-align: right;\n",
       "    }\n",
       "</style>\n",
       "<table border=\"1\" class=\"dataframe\">\n",
       "  <thead>\n",
       "    <tr style=\"text-align: right;\">\n",
       "      <th></th>\n",
       "      <th>swimDistance</th>\n",
       "      <th>teamKills</th>\n",
       "      <th>vehicleDestroys</th>\n",
       "      <th>walkDistance</th>\n",
       "      <th>weaponsAcquired</th>\n",
       "      <th>winPoints</th>\n",
       "      <th>winPlacePerc</th>\n",
       "    </tr>\n",
       "  </thead>\n",
       "  <tbody>\n",
       "    <tr>\n",
       "      <th>0</th>\n",
       "      <td>0.00</td>\n",
       "      <td>0</td>\n",
       "      <td>0</td>\n",
       "      <td>244.80</td>\n",
       "      <td>1</td>\n",
       "      <td>1466</td>\n",
       "      <td>0.4444</td>\n",
       "    </tr>\n",
       "    <tr>\n",
       "      <th>1</th>\n",
       "      <td>11.04</td>\n",
       "      <td>0</td>\n",
       "      <td>0</td>\n",
       "      <td>1434.00</td>\n",
       "      <td>5</td>\n",
       "      <td>0</td>\n",
       "      <td>0.6400</td>\n",
       "    </tr>\n",
       "    <tr>\n",
       "      <th>2</th>\n",
       "      <td>0.00</td>\n",
       "      <td>0</td>\n",
       "      <td>0</td>\n",
       "      <td>161.80</td>\n",
       "      <td>2</td>\n",
       "      <td>0</td>\n",
       "      <td>0.7755</td>\n",
       "    </tr>\n",
       "    <tr>\n",
       "      <th>3</th>\n",
       "      <td>0.00</td>\n",
       "      <td>0</td>\n",
       "      <td>0</td>\n",
       "      <td>202.70</td>\n",
       "      <td>3</td>\n",
       "      <td>0</td>\n",
       "      <td>0.1667</td>\n",
       "    </tr>\n",
       "    <tr>\n",
       "      <th>4</th>\n",
       "      <td>0.00</td>\n",
       "      <td>0</td>\n",
       "      <td>0</td>\n",
       "      <td>49.75</td>\n",
       "      <td>2</td>\n",
       "      <td>0</td>\n",
       "      <td>0.1875</td>\n",
       "    </tr>\n",
       "  </tbody>\n",
       "</table>\n",
       "</div>"
      ],
      "text/plain": [
       "   swimDistance  teamKills  vehicleDestroys  walkDistance  weaponsAcquired  \\\n",
       "0          0.00          0                0        244.80                1   \n",
       "1         11.04          0                0       1434.00                5   \n",
       "2          0.00          0                0        161.80                2   \n",
       "3          0.00          0                0        202.70                3   \n",
       "4          0.00          0                0         49.75                2   \n",
       "\n",
       "   winPoints  winPlacePerc  \n",
       "0       1466        0.4444  \n",
       "1          0        0.6400  \n",
       "2          0        0.7755  \n",
       "3          0        0.1667  \n",
       "4          0        0.1875  "
      ]
     },
     "execution_count": 142,
     "metadata": {},
     "output_type": "execute_result"
    }
   ],
   "source": [
    "dff2=df[['swimDistance', 'teamKills', 'vehicleDestroys', 'walkDistance','weaponsAcquired', 'winPoints', 'winPlacePerc']]\n",
    "dff2.head()"
   ]
  },
  {
   "cell_type": "code",
   "execution_count": 143,
   "id": "244d4058-b6f7-4208-abb1-57833a046b77",
   "metadata": {},
   "outputs": [
    {
     "data": {
      "text/plain": [
       "Index(['Id', 'groupId', 'matchId', 'assists', 'boosts', 'damageDealt', 'DBNOs',\n",
       "       'headshotKills', 'heals', 'killPlace', 'killPoints', 'kills',\n",
       "       'killStreaks', 'longestKill', 'matchDuration', 'matchType', 'maxPlace',\n",
       "       'numGroups', 'rankPoints', 'revives', 'rideDistance', 'roadKills',\n",
       "       'swimDistance', 'teamKills', 'vehicleDestroys', 'walkDistance',\n",
       "       'weaponsAcquired', 'winPoints', 'winPlacePerc'],\n",
       "      dtype='object')"
      ]
     },
     "execution_count": 143,
     "metadata": {},
     "output_type": "execute_result"
    }
   ],
   "source": [
    "df.columns"
   ]
  },
  {
   "cell_type": "code",
   "execution_count": 144,
   "id": "4228a597-1fe4-4724-9510-138871a739c3",
   "metadata": {},
   "outputs": [],
   "source": [
    "dt= df.drop(['Id',\"groupId\",\"matchId\",\"matchType\"], axis = 1)"
   ]
  },
  {
   "cell_type": "code",
   "execution_count": 145,
   "id": "abb1c7dd-c83b-4678-9970-afe21f27f268",
   "metadata": {},
   "outputs": [
    {
     "name": "stdout",
     "output_type": "stream",
     "text": [
      "assists 20\n",
      "boosts 27\n",
      "damageDealt 29916\n",
      "DBNOs 39\n",
      "headshotKills 34\n",
      "heals 63\n",
      "killPlace 101\n",
      "killPoints 1707\n",
      "kills 58\n",
      "killStreaks 18\n",
      "longestKill 28284\n",
      "matchDuration 1267\n",
      "maxPlace 100\n",
      "numGroups 100\n",
      "rankPoints 2262\n",
      "revives 25\n",
      "rideDistance 33562\n",
      "roadKills 14\n",
      "swimDistance 28345\n",
      "teamKills 11\n",
      "vehicleDestroys 6\n",
      "walkDistance 38599\n",
      "weaponsAcquired 97\n",
      "winPoints 1447\n",
      "winPlacePerc 3000\n"
     ]
    }
   ],
   "source": [
    "for i in dt.columns:\n",
    "    print(i,dt[i].nunique())"
   ]
  },
  {
   "cell_type": "code",
   "execution_count": 146,
   "id": "f528bcd7-25a9-4b5a-b4eb-4338eacf88dd",
   "metadata": {
    "scrolled": true
   },
   "outputs": [
    {
     "name": "stdout",
     "output_type": "stream",
     "text": [
      "Id ['7f96b2f878858a' 'eef90569b9d03c' '1eaf90ac73de72' ... 'e1948b1295c88a'\n",
      " 'cc032cdd73b7ac' '0d8e7ed728b6fd']\n",
      "groupId ['4d4b580de459be' '684d5656442f9e' '6a4a42c3245a74' ... 'ac3f1b4a56e5ad'\n",
      " '408cdb5c46b2ac' '8c74f72fedf5ff']\n",
      "matchId ['a10357fd1a4a91' 'aeb375fc57110c' '110163d8bb94ae' ... '21beed46753ed9'\n",
      " '224a123c53e008' 'fcad6c3fdd847a']\n",
      "assists [ 0  1  3  2  4  6  5  8  9  7 13 11 12 21 10 20 14 17 22 15]\n",
      "boosts [ 0  1  2  3  4  6  5  9  7  8 11 10 13 14 12 21 15 20 16 17 33 19 18 24\n",
      " 28 23 22]\n",
      "damageDealt [ 0.     91.47   68.     ...  6.828   0.8276  0.8705]\n",
      "DBNOs [ 0  1  6  4  3  2  5 10  8  7  9 13 21 12 11 19 32 18 24 22 20 14 15 26\n",
      " 17 16 25 27 23 33 38 30 29 31 39 35 40 28 53]\n",
      "headshotKills [ 0  1  2  3  6  4  5  8  9  7 17 10 14 12 40 11 13 15 16 18 27 19 21 23\n",
      " 42 31 20 46 39 34 26 64 41 35]\n",
      "heals [ 0  5  2 14 12  1  8  3  4  6  9 13  7 24 10 15 25 11 18 17 20 16 29 23\n",
      " 19 21 22 27 28 32 47 26 31 30 43 33 37 34 38 52 35 42 48 40 41 44 39 45\n",
      " 36 61 46 57 63 50 55 49 59 54 51 56 73 80 62]\n",
      "killPlace [ 60  57  47  75  45  44  96  48  64  74  37   5  25  72  13  79  18  15\n",
      "   2   3  11  78   7   6  87  62  80  61  34  24  82  73  31  86  46  12\n",
      "  27  77  19  10  63  67  36   4  29  16   8  41  21  38  55  49  91  54\n",
      "  40  69  92  23  71  30  20  81  56  84  66  52  85  94  50  83  58  68\n",
      "  65  28  26  51  35  90  89  42  59  53  33   9  88  43  70  17  76   1\n",
      "  95  99  22  39  32  93  14  97  98 100 101]\n",
      "killPoints [1241    0 1262 ... 2043 2120  392]\n",
      "kills [ 0  1  4  2  9  3  5  6  8  7 14 13 15 12 21 11 10 17 20 24 18 16 22 19\n",
      " 23 35 31 27 25 48 42 30 26 65 39 33 28 29 34 57 55 56 36 38 37 44 66 41\n",
      " 50 53 43 32 40 47 45 46 49 72]\n",
      "killStreaks [ 0  1  2  4  3  5  6  7 10 14  8  9 11 12 13 16 18 20]\n",
      "longestKill [ 0.     58.53   18.44   ...  0.5843  0.6309  0.7761]\n",
      "matchDuration [1306 1777 1318 ...  657  990    9]\n",
      "matchType ['squad-fpp' 'duo' 'solo-fpp' 'squad' 'duo-fpp' 'solo' 'normal-squad-fpp'\n",
      " 'crashfpp' 'flaretpp' 'normal-solo-fpp' 'flarefpp' 'normal-duo-fpp'\n",
      " 'normal-duo' 'normal-squad' 'crashtpp' 'normal-solo']\n",
      "maxPlace [ 28  26  50  31  97  96  29  48  27  30  49  47  46  92  95  45  99  25\n",
      "  90  94  21  93  32  41  98  34  91  44 100  42  24  16  89  33  43  40\n",
      "  78  51  86  19  85  22  12  35  88  20  23  36   8  18  70  13  17  15\n",
      "  83  39  60  73  84  79   7  87  54  10  37  74  80  14  38   6  81   5\n",
      "  82  52  11  63  67  76  59  57  61  69   3  64   4  55  66  75  68   2\n",
      "  65   9  77  62  56  72  71  58  53   1]\n",
      "numGroups [ 26  25  47  30  95  28  92  27  29  46  94  48  45  44  31  89  93  42\n",
      "  23  49  86  50  20  88  36  24  96  97  32  41  85  91  43  98  40  79\n",
      "  16  34  73  90  39  87  77  22  84   1  83  12  33  19  78   8  13   2\n",
      "  65  17 100  21  75  82  99  59  64  70  72   7  80  53  10  15  18  76\n",
      "  81  66  38  58   6  74   5  35  52  11  14  37  56   9  60  67  71   3\n",
      "  63  54   4  61  68  62  69  51  57  55]\n",
      "rankPoints [  -1 1484 1491 ...  225 3489 2962]\n",
      "revives [ 0  1  3  2  4  5  6  8  9  7 13 16 11 12 10 17 14 19 15 18 20 28 23 39\n",
      " 32]\n",
      "rideDistance [0.000e+00 4.500e-03 2.004e+03 ... 8.851e+00 3.123e+00 6.951e+01]\n",
      "roadKills [ 0  1  2  3  4  5  6  8  7  9 14 11 18 10]\n",
      "swimDistance [0.000e+00 1.104e+01 7.684e+01 ... 6.919e-01 7.187e+02 8.026e+02]\n",
      "teamKills [ 0  1  2  3  4  5 10  7 12  6  8]\n",
      "vehicleDestroys [0 1 2 3 4 5]\n",
      "walkDistance [2.448e+02 1.434e+03 1.618e+02 ... 8.406e-01 9.023e+03 9.661e-01]\n",
      "weaponsAcquired [  1   5   2   3   6   4   9   7   0   8  11  10  13  14  43  15  12  28\n",
      "  16  21  22  18  25  26  19  24  23  20  17  30  36  38  34  46  33  29\n",
      "  50  52  37  48  27  41  44  45  61  42  39  63  71  31  35  59  55  72\n",
      "  32  67  40  49 128  53  47  56  60  70  51  80  64  62  65  66  54  68\n",
      "  77  69 102  95  83  94  78  96  57  76 167 177 153  75  87  85 236  58\n",
      "  74  88  73  81  97  89  92]\n",
      "winPoints [1466    0 1497 ...  386  962  916]\n",
      "winPlacePerc [0.4444 0.64   0.7755 ... 0.1207 0.4561 0.2879]\n"
     ]
    }
   ],
   "source": [
    "for i in df.columns:\n",
    "    print(i,df[i].unique())"
   ]
  },
  {
   "cell_type": "markdown",
   "id": "cb58a4b0-b664-4d65-90d7-7d132212690b",
   "metadata": {},
   "source": [
    "Linear Regression"
   ]
  },
  {
   "cell_type": "code",
   "execution_count": 147,
   "id": "fde2fa5a-ebb2-44e1-a139-b6a7f02e50c1",
   "metadata": {},
   "outputs": [],
   "source": [
    "from sklearn.model_selection import train_test_split"
   ]
  },
  {
   "cell_type": "code",
   "execution_count": 148,
   "id": "d241a29d-24a7-4575-bb22-5e046f4bc54e",
   "metadata": {},
   "outputs": [],
   "source": [
    "x = dt.drop([\"winPlacePerc\"], axis = 1)\n",
    "y = dt[\"winPlacePerc\"]"
   ]
  },
  {
   "cell_type": "code",
   "execution_count": 149,
   "id": "fa6cc044-4eba-4a66-9e98-01a02b2ed633",
   "metadata": {},
   "outputs": [
    {
     "name": "stdout",
     "output_type": "stream",
     "text": [
      "0\n",
      "0\n",
      "0\n",
      "0\n",
      "0\n",
      "0\n",
      "0\n",
      "0\n",
      "0\n",
      "0\n",
      "0\n",
      "0\n",
      "0\n",
      "0\n",
      "0\n",
      "0\n",
      "0\n",
      "0\n",
      "0\n",
      "0\n",
      "0\n",
      "0\n",
      "0\n",
      "0\n",
      "1\n"
     ]
    }
   ],
   "source": [
    "for i in dt.columns:\n",
    "    print(dt[i].isnull().sum())"
   ]
  },
  {
   "cell_type": "code",
   "execution_count": 150,
   "id": "1af6846a-ba18-4959-bbd4-9e922001c886",
   "metadata": {},
   "outputs": [
    {
     "data": {
      "text/plain": [
       "0.47282155272191256"
      ]
     },
     "execution_count": 150,
     "metadata": {},
     "output_type": "execute_result"
    }
   ],
   "source": [
    "dt[\"winPlacePerc\"].mean()"
   ]
  },
  {
   "cell_type": "code",
   "execution_count": 151,
   "id": "f01105ab-edfb-4f3b-8175-e280a947797e",
   "metadata": {},
   "outputs": [],
   "source": [
    "dt[\"winPlacePerc\"] = dt[\"winPlacePerc\"].fillna(0.47282155272191256)"
   ]
  },
  {
   "cell_type": "code",
   "execution_count": null,
   "id": "f9b0ceb4-d12f-46cc-a5ee-3e71b56245a5",
   "metadata": {},
   "outputs": [],
   "source": []
  },
  {
   "cell_type": "code",
   "execution_count": null,
   "id": "ed3d7cc2-e07e-4350-a37b-f62c8ff4a292",
   "metadata": {},
   "outputs": [],
   "source": []
  },
  {
   "cell_type": "code",
   "execution_count": 152,
   "id": "2a4cb4eb-cb5e-4b2e-9622-8283010cfb77",
   "metadata": {},
   "outputs": [
    {
     "data": {
      "text/html": [
       "<div>\n",
       "<style scoped>\n",
       "    .dataframe tbody tr th:only-of-type {\n",
       "        vertical-align: middle;\n",
       "    }\n",
       "\n",
       "    .dataframe tbody tr th {\n",
       "        vertical-align: top;\n",
       "    }\n",
       "\n",
       "    .dataframe thead th {\n",
       "        text-align: right;\n",
       "    }\n",
       "</style>\n",
       "<table border=\"1\" class=\"dataframe\">\n",
       "  <thead>\n",
       "    <tr style=\"text-align: right;\">\n",
       "      <th></th>\n",
       "      <th>assists</th>\n",
       "      <th>boosts</th>\n",
       "      <th>damageDealt</th>\n",
       "      <th>DBNOs</th>\n",
       "      <th>headshotKills</th>\n",
       "      <th>heals</th>\n",
       "      <th>killPlace</th>\n",
       "      <th>killPoints</th>\n",
       "      <th>kills</th>\n",
       "      <th>killStreaks</th>\n",
       "      <th>...</th>\n",
       "      <th>revives</th>\n",
       "      <th>rideDistance</th>\n",
       "      <th>roadKills</th>\n",
       "      <th>swimDistance</th>\n",
       "      <th>teamKills</th>\n",
       "      <th>vehicleDestroys</th>\n",
       "      <th>walkDistance</th>\n",
       "      <th>weaponsAcquired</th>\n",
       "      <th>winPoints</th>\n",
       "      <th>winPlacePerc</th>\n",
       "    </tr>\n",
       "  </thead>\n",
       "  <tbody>\n",
       "    <tr>\n",
       "      <th>0</th>\n",
       "      <td>0</td>\n",
       "      <td>0</td>\n",
       "      <td>0.000</td>\n",
       "      <td>0</td>\n",
       "      <td>0</td>\n",
       "      <td>0</td>\n",
       "      <td>60</td>\n",
       "      <td>1241</td>\n",
       "      <td>0</td>\n",
       "      <td>0</td>\n",
       "      <td>...</td>\n",
       "      <td>0</td>\n",
       "      <td>0.0000</td>\n",
       "      <td>0</td>\n",
       "      <td>0.00</td>\n",
       "      <td>0</td>\n",
       "      <td>0</td>\n",
       "      <td>244.80</td>\n",
       "      <td>1</td>\n",
       "      <td>1466</td>\n",
       "      <td>0.4444</td>\n",
       "    </tr>\n",
       "    <tr>\n",
       "      <th>1</th>\n",
       "      <td>0</td>\n",
       "      <td>0</td>\n",
       "      <td>91.470</td>\n",
       "      <td>0</td>\n",
       "      <td>0</td>\n",
       "      <td>0</td>\n",
       "      <td>57</td>\n",
       "      <td>0</td>\n",
       "      <td>0</td>\n",
       "      <td>0</td>\n",
       "      <td>...</td>\n",
       "      <td>0</td>\n",
       "      <td>0.0045</td>\n",
       "      <td>0</td>\n",
       "      <td>11.04</td>\n",
       "      <td>0</td>\n",
       "      <td>0</td>\n",
       "      <td>1434.00</td>\n",
       "      <td>5</td>\n",
       "      <td>0</td>\n",
       "      <td>0.6400</td>\n",
       "    </tr>\n",
       "    <tr>\n",
       "      <th>2</th>\n",
       "      <td>1</td>\n",
       "      <td>0</td>\n",
       "      <td>68.000</td>\n",
       "      <td>0</td>\n",
       "      <td>0</td>\n",
       "      <td>0</td>\n",
       "      <td>47</td>\n",
       "      <td>0</td>\n",
       "      <td>0</td>\n",
       "      <td>0</td>\n",
       "      <td>...</td>\n",
       "      <td>0</td>\n",
       "      <td>0.0000</td>\n",
       "      <td>0</td>\n",
       "      <td>0.00</td>\n",
       "      <td>0</td>\n",
       "      <td>0</td>\n",
       "      <td>161.80</td>\n",
       "      <td>2</td>\n",
       "      <td>0</td>\n",
       "      <td>0.7755</td>\n",
       "    </tr>\n",
       "    <tr>\n",
       "      <th>3</th>\n",
       "      <td>0</td>\n",
       "      <td>0</td>\n",
       "      <td>32.900</td>\n",
       "      <td>0</td>\n",
       "      <td>0</td>\n",
       "      <td>0</td>\n",
       "      <td>75</td>\n",
       "      <td>0</td>\n",
       "      <td>0</td>\n",
       "      <td>0</td>\n",
       "      <td>...</td>\n",
       "      <td>0</td>\n",
       "      <td>0.0000</td>\n",
       "      <td>0</td>\n",
       "      <td>0.00</td>\n",
       "      <td>0</td>\n",
       "      <td>0</td>\n",
       "      <td>202.70</td>\n",
       "      <td>3</td>\n",
       "      <td>0</td>\n",
       "      <td>0.1667</td>\n",
       "    </tr>\n",
       "    <tr>\n",
       "      <th>4</th>\n",
       "      <td>0</td>\n",
       "      <td>0</td>\n",
       "      <td>100.000</td>\n",
       "      <td>0</td>\n",
       "      <td>0</td>\n",
       "      <td>0</td>\n",
       "      <td>45</td>\n",
       "      <td>0</td>\n",
       "      <td>1</td>\n",
       "      <td>1</td>\n",
       "      <td>...</td>\n",
       "      <td>0</td>\n",
       "      <td>0.0000</td>\n",
       "      <td>0</td>\n",
       "      <td>0.00</td>\n",
       "      <td>0</td>\n",
       "      <td>0</td>\n",
       "      <td>49.75</td>\n",
       "      <td>2</td>\n",
       "      <td>0</td>\n",
       "      <td>0.1875</td>\n",
       "    </tr>\n",
       "    <tr>\n",
       "      <th>5</th>\n",
       "      <td>0</td>\n",
       "      <td>0</td>\n",
       "      <td>100.000</td>\n",
       "      <td>1</td>\n",
       "      <td>1</td>\n",
       "      <td>0</td>\n",
       "      <td>44</td>\n",
       "      <td>0</td>\n",
       "      <td>1</td>\n",
       "      <td>1</td>\n",
       "      <td>...</td>\n",
       "      <td>0</td>\n",
       "      <td>0.0000</td>\n",
       "      <td>0</td>\n",
       "      <td>0.00</td>\n",
       "      <td>0</td>\n",
       "      <td>0</td>\n",
       "      <td>34.70</td>\n",
       "      <td>1</td>\n",
       "      <td>0</td>\n",
       "      <td>0.0370</td>\n",
       "    </tr>\n",
       "    <tr>\n",
       "      <th>6</th>\n",
       "      <td>0</td>\n",
       "      <td>0</td>\n",
       "      <td>0.000</td>\n",
       "      <td>0</td>\n",
       "      <td>0</td>\n",
       "      <td>0</td>\n",
       "      <td>96</td>\n",
       "      <td>1262</td>\n",
       "      <td>0</td>\n",
       "      <td>0</td>\n",
       "      <td>...</td>\n",
       "      <td>0</td>\n",
       "      <td>0.0000</td>\n",
       "      <td>0</td>\n",
       "      <td>0.00</td>\n",
       "      <td>0</td>\n",
       "      <td>0</td>\n",
       "      <td>13.50</td>\n",
       "      <td>1</td>\n",
       "      <td>1497</td>\n",
       "      <td>0.0000</td>\n",
       "    </tr>\n",
       "    <tr>\n",
       "      <th>7</th>\n",
       "      <td>0</td>\n",
       "      <td>0</td>\n",
       "      <td>8.538</td>\n",
       "      <td>0</td>\n",
       "      <td>0</td>\n",
       "      <td>0</td>\n",
       "      <td>48</td>\n",
       "      <td>1000</td>\n",
       "      <td>0</td>\n",
       "      <td>0</td>\n",
       "      <td>...</td>\n",
       "      <td>0</td>\n",
       "      <td>2004.0000</td>\n",
       "      <td>0</td>\n",
       "      <td>0.00</td>\n",
       "      <td>0</td>\n",
       "      <td>0</td>\n",
       "      <td>1089.00</td>\n",
       "      <td>6</td>\n",
       "      <td>1500</td>\n",
       "      <td>0.7368</td>\n",
       "    </tr>\n",
       "    <tr>\n",
       "      <th>8</th>\n",
       "      <td>0</td>\n",
       "      <td>0</td>\n",
       "      <td>51.600</td>\n",
       "      <td>0</td>\n",
       "      <td>0</td>\n",
       "      <td>0</td>\n",
       "      <td>64</td>\n",
       "      <td>0</td>\n",
       "      <td>0</td>\n",
       "      <td>0</td>\n",
       "      <td>...</td>\n",
       "      <td>0</td>\n",
       "      <td>0.0000</td>\n",
       "      <td>0</td>\n",
       "      <td>0.00</td>\n",
       "      <td>0</td>\n",
       "      <td>0</td>\n",
       "      <td>799.90</td>\n",
       "      <td>4</td>\n",
       "      <td>0</td>\n",
       "      <td>0.3704</td>\n",
       "    </tr>\n",
       "    <tr>\n",
       "      <th>9</th>\n",
       "      <td>0</td>\n",
       "      <td>0</td>\n",
       "      <td>37.270</td>\n",
       "      <td>0</td>\n",
       "      <td>0</td>\n",
       "      <td>0</td>\n",
       "      <td>74</td>\n",
       "      <td>0</td>\n",
       "      <td>0</td>\n",
       "      <td>0</td>\n",
       "      <td>...</td>\n",
       "      <td>0</td>\n",
       "      <td>0.0000</td>\n",
       "      <td>0</td>\n",
       "      <td>0.00</td>\n",
       "      <td>0</td>\n",
       "      <td>0</td>\n",
       "      <td>65.67</td>\n",
       "      <td>1</td>\n",
       "      <td>0</td>\n",
       "      <td>0.2143</td>\n",
       "    </tr>\n",
       "  </tbody>\n",
       "</table>\n",
       "<p>10 rows × 25 columns</p>\n",
       "</div>"
      ],
      "text/plain": [
       "   assists  boosts  damageDealt  DBNOs  headshotKills  heals  killPlace  \\\n",
       "0        0       0        0.000      0              0      0         60   \n",
       "1        0       0       91.470      0              0      0         57   \n",
       "2        1       0       68.000      0              0      0         47   \n",
       "3        0       0       32.900      0              0      0         75   \n",
       "4        0       0      100.000      0              0      0         45   \n",
       "5        0       0      100.000      1              1      0         44   \n",
       "6        0       0        0.000      0              0      0         96   \n",
       "7        0       0        8.538      0              0      0         48   \n",
       "8        0       0       51.600      0              0      0         64   \n",
       "9        0       0       37.270      0              0      0         74   \n",
       "\n",
       "   killPoints  kills  killStreaks  ...  revives  rideDistance  roadKills  \\\n",
       "0        1241      0            0  ...        0        0.0000          0   \n",
       "1           0      0            0  ...        0        0.0045          0   \n",
       "2           0      0            0  ...        0        0.0000          0   \n",
       "3           0      0            0  ...        0        0.0000          0   \n",
       "4           0      1            1  ...        0        0.0000          0   \n",
       "5           0      1            1  ...        0        0.0000          0   \n",
       "6        1262      0            0  ...        0        0.0000          0   \n",
       "7        1000      0            0  ...        0     2004.0000          0   \n",
       "8           0      0            0  ...        0        0.0000          0   \n",
       "9           0      0            0  ...        0        0.0000          0   \n",
       "\n",
       "   swimDistance  teamKills  vehicleDestroys  walkDistance  weaponsAcquired  \\\n",
       "0          0.00          0                0        244.80                1   \n",
       "1         11.04          0                0       1434.00                5   \n",
       "2          0.00          0                0        161.80                2   \n",
       "3          0.00          0                0        202.70                3   \n",
       "4          0.00          0                0         49.75                2   \n",
       "5          0.00          0                0         34.70                1   \n",
       "6          0.00          0                0         13.50                1   \n",
       "7          0.00          0                0       1089.00                6   \n",
       "8          0.00          0                0        799.90                4   \n",
       "9          0.00          0                0         65.67                1   \n",
       "\n",
       "   winPoints  winPlacePerc  \n",
       "0       1466        0.4444  \n",
       "1          0        0.6400  \n",
       "2          0        0.7755  \n",
       "3          0        0.1667  \n",
       "4          0        0.1875  \n",
       "5          0        0.0370  \n",
       "6       1497        0.0000  \n",
       "7       1500        0.7368  \n",
       "8          0        0.3704  \n",
       "9          0        0.2143  \n",
       "\n",
       "[10 rows x 25 columns]"
      ]
     },
     "execution_count": 152,
     "metadata": {},
     "output_type": "execute_result"
    }
   ],
   "source": [
    "dt.head(10)"
   ]
  },
  {
   "cell_type": "code",
   "execution_count": 153,
   "id": "6664e7a2-90c4-4cb6-bc30-c208788929bd",
   "metadata": {
    "scrolled": true
   },
   "outputs": [
    {
     "name": "stdout",
     "output_type": "stream",
     "text": [
      "[ 0  1  3  2  4  6  5  8  9  7 13 11 12 21 10 20 14 17 22 15]\n",
      "\n",
      "[ 0  1  2  3  4  6  5  9  7  8 11 10 13 14 12 21 15 20 16 17 33 19 18 24\n",
      " 28 23 22]\n",
      "\n",
      "[ 0.     91.47   68.     ...  6.828   0.8276  0.8705]\n",
      "\n",
      "[ 0  1  6  4  3  2  5 10  8  7  9 13 21 12 11 19 32 18 24 22 20 14 15 26\n",
      " 17 16 25 27 23 33 38 30 29 31 39 35 40 28 53]\n",
      "\n",
      "[ 0  1  2  3  6  4  5  8  9  7 17 10 14 12 40 11 13 15 16 18 27 19 21 23\n",
      " 42 31 20 46 39 34 26 64 41 35]\n",
      "\n",
      "[ 0  5  2 14 12  1  8  3  4  6  9 13  7 24 10 15 25 11 18 17 20 16 29 23\n",
      " 19 21 22 27 28 32 47 26 31 30 43 33 37 34 38 52 35 42 48 40 41 44 39 45\n",
      " 36 61 46 57 63 50 55 49 59 54 51 56 73 80 62]\n",
      "\n",
      "[ 60  57  47  75  45  44  96  48  64  74  37   5  25  72  13  79  18  15\n",
      "   2   3  11  78   7   6  87  62  80  61  34  24  82  73  31  86  46  12\n",
      "  27  77  19  10  63  67  36   4  29  16   8  41  21  38  55  49  91  54\n",
      "  40  69  92  23  71  30  20  81  56  84  66  52  85  94  50  83  58  68\n",
      "  65  28  26  51  35  90  89  42  59  53  33   9  88  43  70  17  76   1\n",
      "  95  99  22  39  32  93  14  97  98 100 101]\n",
      "\n",
      "[1241    0 1262 ... 2043 2120  392]\n",
      "\n",
      "[ 0  1  4  2  9  3  5  6  8  7 14 13 15 12 21 11 10 17 20 24 18 16 22 19\n",
      " 23 35 31 27 25 48 42 30 26 65 39 33 28 29 34 57 55 56 36 38 37 44 66 41\n",
      " 50 53 43 32 40 47 45 46 49 72]\n",
      "\n",
      "[ 0  1  2  4  3  5  6  7 10 14  8  9 11 12 13 16 18 20]\n",
      "\n",
      "[ 0.     58.53   18.44   ...  0.5843  0.6309  0.7761]\n",
      "\n",
      "[1306 1777 1318 ...  657  990    9]\n",
      "\n",
      "[ 28  26  50  31  97  96  29  48  27  30  49  47  46  92  95  45  99  25\n",
      "  90  94  21  93  32  41  98  34  91  44 100  42  24  16  89  33  43  40\n",
      "  78  51  86  19  85  22  12  35  88  20  23  36   8  18  70  13  17  15\n",
      "  83  39  60  73  84  79   7  87  54  10  37  74  80  14  38   6  81   5\n",
      "  82  52  11  63  67  76  59  57  61  69   3  64   4  55  66  75  68   2\n",
      "  65   9  77  62  56  72  71  58  53   1]\n",
      "\n",
      "[ 26  25  47  30  95  28  92  27  29  46  94  48  45  44  31  89  93  42\n",
      "  23  49  86  50  20  88  36  24  96  97  32  41  85  91  43  98  40  79\n",
      "  16  34  73  90  39  87  77  22  84   1  83  12  33  19  78   8  13   2\n",
      "  65  17 100  21  75  82  99  59  64  70  72   7  80  53  10  15  18  76\n",
      "  81  66  38  58   6  74   5  35  52  11  14  37  56   9  60  67  71   3\n",
      "  63  54   4  61  68  62  69  51  57  55]\n",
      "\n",
      "[  -1 1484 1491 ...  225 3489 2962]\n",
      "\n",
      "[ 0  1  3  2  4  5  6  8  9  7 13 16 11 12 10 17 14 19 15 18 20 28 23 39\n",
      " 32]\n",
      "\n",
      "[0.000e+00 4.500e-03 2.004e+03 ... 8.851e+00 3.123e+00 6.951e+01]\n",
      "\n",
      "[ 0  1  2  3  4  5  6  8  7  9 14 11 18 10]\n",
      "\n",
      "[0.000e+00 1.104e+01 7.684e+01 ... 6.919e-01 7.187e+02 8.026e+02]\n",
      "\n",
      "[ 0  1  2  3  4  5 10  7 12  6  8]\n",
      "\n",
      "[0 1 2 3 4 5]\n",
      "\n",
      "[2.448e+02 1.434e+03 1.618e+02 ... 8.406e-01 9.023e+03 9.661e-01]\n",
      "\n",
      "[  1   5   2   3   6   4   9   7   0   8  11  10  13  14  43  15  12  28\n",
      "  16  21  22  18  25  26  19  24  23  20  17  30  36  38  34  46  33  29\n",
      "  50  52  37  48  27  41  44  45  61  42  39  63  71  31  35  59  55  72\n",
      "  32  67  40  49 128  53  47  56  60  70  51  80  64  62  65  66  54  68\n",
      "  77  69 102  95  83  94  78  96  57  76 167 177 153  75  87  85 236  58\n",
      "  74  88  73  81  97  89  92]\n",
      "\n",
      "[1466    0 1497 ...  386  962  916]\n",
      "\n",
      "[0.4444 0.64   0.7755 ... 0.1207 0.4561 0.2879]\n",
      "\n"
     ]
    }
   ],
   "source": [
    "for i in dt.columns:\n",
    "    print(dt[i].unique())\n",
    "    print()"
   ]
  },
  {
   "cell_type": "markdown",
   "id": "fd15b1ad-28a6-4fa3-86e1-96b024816fa2",
   "metadata": {},
   "source": [
    "### Normalization"
   ]
  },
  {
   "cell_type": "code",
   "execution_count": 154,
   "id": "ff3dff34-0ba9-4574-a866-1eab49534fab",
   "metadata": {},
   "outputs": [],
   "source": [
    "from sklearn.preprocessing import minmax_scale"
   ]
  },
  {
   "cell_type": "code",
   "execution_count": 155,
   "id": "c523629a-7d07-42a4-8205-0e84b09eda45",
   "metadata": {},
   "outputs": [],
   "source": [
    "x_normed = minmax_scale(x)"
   ]
  },
  {
   "cell_type": "markdown",
   "id": "8505ca08-d93e-4b2f-b814-5906dee9afd7",
   "metadata": {},
   "source": [
    "#### Extracting feature names "
   ]
  },
  {
   "cell_type": "code",
   "execution_count": 156,
   "id": "3ea77a5d-e41f-487d-954c-6b55a1ff0f5f",
   "metadata": {},
   "outputs": [],
   "source": [
    "feature_names = list(dt.columns)"
   ]
  },
  {
   "cell_type": "code",
   "execution_count": 157,
   "id": "0947dd4b-6861-4871-b29e-87df0d559198",
   "metadata": {},
   "outputs": [
    {
     "data": {
      "text/plain": [
       "'winPlacePerc'"
      ]
     },
     "execution_count": 157,
     "metadata": {},
     "output_type": "execute_result"
    }
   ],
   "source": [
    "feature_names[-1]"
   ]
  },
  {
   "cell_type": "code",
   "execution_count": 158,
   "id": "dfae509f-c93c-4cd3-861f-3ecc762f78fb",
   "metadata": {},
   "outputs": [],
   "source": [
    "feature_names.remove('winPlacePerc')"
   ]
  },
  {
   "cell_type": "code",
   "execution_count": 159,
   "id": "b24a272f-4401-4ccb-8eb1-d8d6fb2fdd53",
   "metadata": {},
   "outputs": [
    {
     "data": {
      "text/plain": [
       "['assists',\n",
       " 'boosts',\n",
       " 'damageDealt',\n",
       " 'DBNOs',\n",
       " 'headshotKills',\n",
       " 'heals',\n",
       " 'killPlace',\n",
       " 'killPoints',\n",
       " 'kills',\n",
       " 'killStreaks',\n",
       " 'longestKill',\n",
       " 'matchDuration',\n",
       " 'maxPlace',\n",
       " 'numGroups',\n",
       " 'rankPoints',\n",
       " 'revives',\n",
       " 'rideDistance',\n",
       " 'roadKills',\n",
       " 'swimDistance',\n",
       " 'teamKills',\n",
       " 'vehicleDestroys',\n",
       " 'walkDistance',\n",
       " 'weaponsAcquired',\n",
       " 'winPoints']"
      ]
     },
     "execution_count": 159,
     "metadata": {},
     "output_type": "execute_result"
    }
   ],
   "source": [
    "feature_names"
   ]
  },
  {
   "cell_type": "code",
   "execution_count": 160,
   "id": "85bcc1d6-c625-4a2a-9e5d-d1889336f818",
   "metadata": {},
   "outputs": [],
   "source": [
    "dt_normed = pd.DataFrame(x_normed, columns = feature_names)"
   ]
  },
  {
   "cell_type": "code",
   "execution_count": 161,
   "id": "646f6c0c-caa9-48aa-a389-9f3f324793d2",
   "metadata": {},
   "outputs": [],
   "source": [
    "target = pd.DataFrame(dt[\"winPlacePerc\"])"
   ]
  },
  {
   "cell_type": "markdown",
   "id": "f176d797-c1a1-4b92-84f9-c1eadd78f37f",
   "metadata": {},
   "source": [
    "### Final Dataset"
   ]
  },
  {
   "cell_type": "code",
   "execution_count": 162,
   "id": "62b997c7-6a0b-41d3-bd1b-75773ac8523e",
   "metadata": {},
   "outputs": [],
   "source": [
    "dt_final = pd.concat([dt_normed,target], axis = 1)"
   ]
  },
  {
   "cell_type": "code",
   "execution_count": 163,
   "id": "9d0f6ee8-aed6-4b43-86e4-7fcf3645e2dd",
   "metadata": {},
   "outputs": [
    {
     "data": {
      "text/html": [
       "<div>\n",
       "<style scoped>\n",
       "    .dataframe tbody tr th:only-of-type {\n",
       "        vertical-align: middle;\n",
       "    }\n",
       "\n",
       "    .dataframe tbody tr th {\n",
       "        vertical-align: top;\n",
       "    }\n",
       "\n",
       "    .dataframe thead th {\n",
       "        text-align: right;\n",
       "    }\n",
       "</style>\n",
       "<table border=\"1\" class=\"dataframe\">\n",
       "  <thead>\n",
       "    <tr style=\"text-align: right;\">\n",
       "      <th></th>\n",
       "      <th>assists</th>\n",
       "      <th>boosts</th>\n",
       "      <th>damageDealt</th>\n",
       "      <th>DBNOs</th>\n",
       "      <th>headshotKills</th>\n",
       "      <th>heals</th>\n",
       "      <th>killPlace</th>\n",
       "      <th>killPoints</th>\n",
       "      <th>kills</th>\n",
       "      <th>killStreaks</th>\n",
       "      <th>...</th>\n",
       "      <th>revives</th>\n",
       "      <th>rideDistance</th>\n",
       "      <th>roadKills</th>\n",
       "      <th>swimDistance</th>\n",
       "      <th>teamKills</th>\n",
       "      <th>vehicleDestroys</th>\n",
       "      <th>walkDistance</th>\n",
       "      <th>weaponsAcquired</th>\n",
       "      <th>winPoints</th>\n",
       "      <th>winPlacePerc</th>\n",
       "    </tr>\n",
       "  </thead>\n",
       "  <tbody>\n",
       "    <tr>\n",
       "      <th>0</th>\n",
       "      <td>0</td>\n",
       "      <td>0</td>\n",
       "      <td>0.00</td>\n",
       "      <td>0</td>\n",
       "      <td>0</td>\n",
       "      <td>0</td>\n",
       "      <td>60</td>\n",
       "      <td>1241</td>\n",
       "      <td>0</td>\n",
       "      <td>0</td>\n",
       "      <td>...</td>\n",
       "      <td>0</td>\n",
       "      <td>0.0000</td>\n",
       "      <td>0</td>\n",
       "      <td>0.00</td>\n",
       "      <td>0</td>\n",
       "      <td>0</td>\n",
       "      <td>244.8</td>\n",
       "      <td>1</td>\n",
       "      <td>1466</td>\n",
       "      <td>0.4444</td>\n",
       "    </tr>\n",
       "    <tr>\n",
       "      <th>1</th>\n",
       "      <td>0</td>\n",
       "      <td>0</td>\n",
       "      <td>91.47</td>\n",
       "      <td>0</td>\n",
       "      <td>0</td>\n",
       "      <td>0</td>\n",
       "      <td>57</td>\n",
       "      <td>0</td>\n",
       "      <td>0</td>\n",
       "      <td>0</td>\n",
       "      <td>...</td>\n",
       "      <td>0</td>\n",
       "      <td>0.0045</td>\n",
       "      <td>0</td>\n",
       "      <td>11.04</td>\n",
       "      <td>0</td>\n",
       "      <td>0</td>\n",
       "      <td>1434.0</td>\n",
       "      <td>5</td>\n",
       "      <td>0</td>\n",
       "      <td>0.6400</td>\n",
       "    </tr>\n",
       "    <tr>\n",
       "      <th>2</th>\n",
       "      <td>1</td>\n",
       "      <td>0</td>\n",
       "      <td>68.00</td>\n",
       "      <td>0</td>\n",
       "      <td>0</td>\n",
       "      <td>0</td>\n",
       "      <td>47</td>\n",
       "      <td>0</td>\n",
       "      <td>0</td>\n",
       "      <td>0</td>\n",
       "      <td>...</td>\n",
       "      <td>0</td>\n",
       "      <td>0.0000</td>\n",
       "      <td>0</td>\n",
       "      <td>0.00</td>\n",
       "      <td>0</td>\n",
       "      <td>0</td>\n",
       "      <td>161.8</td>\n",
       "      <td>2</td>\n",
       "      <td>0</td>\n",
       "      <td>0.7755</td>\n",
       "    </tr>\n",
       "    <tr>\n",
       "      <th>3</th>\n",
       "      <td>0</td>\n",
       "      <td>0</td>\n",
       "      <td>32.90</td>\n",
       "      <td>0</td>\n",
       "      <td>0</td>\n",
       "      <td>0</td>\n",
       "      <td>75</td>\n",
       "      <td>0</td>\n",
       "      <td>0</td>\n",
       "      <td>0</td>\n",
       "      <td>...</td>\n",
       "      <td>0</td>\n",
       "      <td>0.0000</td>\n",
       "      <td>0</td>\n",
       "      <td>0.00</td>\n",
       "      <td>0</td>\n",
       "      <td>0</td>\n",
       "      <td>202.7</td>\n",
       "      <td>3</td>\n",
       "      <td>0</td>\n",
       "      <td>0.1667</td>\n",
       "    </tr>\n",
       "  </tbody>\n",
       "</table>\n",
       "<p>4 rows × 25 columns</p>\n",
       "</div>"
      ],
      "text/plain": [
       "   assists  boosts  damageDealt  DBNOs  headshotKills  heals  killPlace  \\\n",
       "0        0       0         0.00      0              0      0         60   \n",
       "1        0       0        91.47      0              0      0         57   \n",
       "2        1       0        68.00      0              0      0         47   \n",
       "3        0       0        32.90      0              0      0         75   \n",
       "\n",
       "   killPoints  kills  killStreaks  ...  revives  rideDistance  roadKills  \\\n",
       "0        1241      0            0  ...        0        0.0000          0   \n",
       "1           0      0            0  ...        0        0.0045          0   \n",
       "2           0      0            0  ...        0        0.0000          0   \n",
       "3           0      0            0  ...        0        0.0000          0   \n",
       "\n",
       "   swimDistance  teamKills  vehicleDestroys  walkDistance  weaponsAcquired  \\\n",
       "0          0.00          0                0         244.8                1   \n",
       "1         11.04          0                0        1434.0                5   \n",
       "2          0.00          0                0         161.8                2   \n",
       "3          0.00          0                0         202.7                3   \n",
       "\n",
       "   winPoints  winPlacePerc  \n",
       "0       1466        0.4444  \n",
       "1          0        0.6400  \n",
       "2          0        0.7755  \n",
       "3          0        0.1667  \n",
       "\n",
       "[4 rows x 25 columns]"
      ]
     },
     "execution_count": 163,
     "metadata": {},
     "output_type": "execute_result"
    }
   ],
   "source": [
    "dt.head(4)"
   ]
  },
  {
   "cell_type": "markdown",
   "id": "b81f5d41-c981-4c0e-b19f-45708aaabdc9",
   "metadata": {},
   "source": [
    "### Train Test splitting "
   ]
  },
  {
   "cell_type": "code",
   "execution_count": 164,
   "id": "810b9108-6b0d-475e-a8b0-0b5812a16c0c",
   "metadata": {},
   "outputs": [],
   "source": [
    "x = dt.drop([\"winPlacePerc\"], axis = 1)\n",
    "y = dt[\"winPlacePerc\"]"
   ]
  },
  {
   "cell_type": "code",
   "execution_count": 165,
   "id": "b083f3ea-a621-4d4d-93d9-b06f8a0d8dc1",
   "metadata": {},
   "outputs": [],
   "source": [
    "x_train, x_test, y_train, y_test = train_test_split(x,y,test_size = 0.3)"
   ]
  },
  {
   "cell_type": "code",
   "execution_count": 166,
   "id": "ab6cbd26-3dc1-4041-a1cc-9419ab1ad2c5",
   "metadata": {},
   "outputs": [],
   "source": [
    "from sklearn.linear_model import LinearRegression\n",
    "model = LinearRegression()"
   ]
  },
  {
   "cell_type": "code",
   "execution_count": 167,
   "id": "aa7811f2-2460-4d63-b30f-2772132bf04f",
   "metadata": {},
   "outputs": [
    {
     "data": {
      "text/html": [
       "<style>#sk-container-id-5 {color: black;background-color: white;}#sk-container-id-5 pre{padding: 0;}#sk-container-id-5 div.sk-toggleable {background-color: white;}#sk-container-id-5 label.sk-toggleable__label {cursor: pointer;display: block;width: 100%;margin-bottom: 0;padding: 0.3em;box-sizing: border-box;text-align: center;}#sk-container-id-5 label.sk-toggleable__label-arrow:before {content: \"▸\";float: left;margin-right: 0.25em;color: #696969;}#sk-container-id-5 label.sk-toggleable__label-arrow:hover:before {color: black;}#sk-container-id-5 div.sk-estimator:hover label.sk-toggleable__label-arrow:before {color: black;}#sk-container-id-5 div.sk-toggleable__content {max-height: 0;max-width: 0;overflow: hidden;text-align: left;background-color: #f0f8ff;}#sk-container-id-5 div.sk-toggleable__content pre {margin: 0.2em;color: black;border-radius: 0.25em;background-color: #f0f8ff;}#sk-container-id-5 input.sk-toggleable__control:checked~div.sk-toggleable__content {max-height: 200px;max-width: 100%;overflow: auto;}#sk-container-id-5 input.sk-toggleable__control:checked~label.sk-toggleable__label-arrow:before {content: \"▾\";}#sk-container-id-5 div.sk-estimator input.sk-toggleable__control:checked~label.sk-toggleable__label {background-color: #d4ebff;}#sk-container-id-5 div.sk-label input.sk-toggleable__control:checked~label.sk-toggleable__label {background-color: #d4ebff;}#sk-container-id-5 input.sk-hidden--visually {border: 0;clip: rect(1px 1px 1px 1px);clip: rect(1px, 1px, 1px, 1px);height: 1px;margin: -1px;overflow: hidden;padding: 0;position: absolute;width: 1px;}#sk-container-id-5 div.sk-estimator {font-family: monospace;background-color: #f0f8ff;border: 1px dotted black;border-radius: 0.25em;box-sizing: border-box;margin-bottom: 0.5em;}#sk-container-id-5 div.sk-estimator:hover {background-color: #d4ebff;}#sk-container-id-5 div.sk-parallel-item::after {content: \"\";width: 100%;border-bottom: 1px solid gray;flex-grow: 1;}#sk-container-id-5 div.sk-label:hover label.sk-toggleable__label {background-color: #d4ebff;}#sk-container-id-5 div.sk-serial::before {content: \"\";position: absolute;border-left: 1px solid gray;box-sizing: border-box;top: 0;bottom: 0;left: 50%;z-index: 0;}#sk-container-id-5 div.sk-serial {display: flex;flex-direction: column;align-items: center;background-color: white;padding-right: 0.2em;padding-left: 0.2em;position: relative;}#sk-container-id-5 div.sk-item {position: relative;z-index: 1;}#sk-container-id-5 div.sk-parallel {display: flex;align-items: stretch;justify-content: center;background-color: white;position: relative;}#sk-container-id-5 div.sk-item::before, #sk-container-id-5 div.sk-parallel-item::before {content: \"\";position: absolute;border-left: 1px solid gray;box-sizing: border-box;top: 0;bottom: 0;left: 50%;z-index: -1;}#sk-container-id-5 div.sk-parallel-item {display: flex;flex-direction: column;z-index: 1;position: relative;background-color: white;}#sk-container-id-5 div.sk-parallel-item:first-child::after {align-self: flex-end;width: 50%;}#sk-container-id-5 div.sk-parallel-item:last-child::after {align-self: flex-start;width: 50%;}#sk-container-id-5 div.sk-parallel-item:only-child::after {width: 0;}#sk-container-id-5 div.sk-dashed-wrapped {border: 1px dashed gray;margin: 0 0.4em 0.5em 0.4em;box-sizing: border-box;padding-bottom: 0.4em;background-color: white;}#sk-container-id-5 div.sk-label label {font-family: monospace;font-weight: bold;display: inline-block;line-height: 1.2em;}#sk-container-id-5 div.sk-label-container {text-align: center;}#sk-container-id-5 div.sk-container {/* jupyter's `normalize.less` sets `[hidden] { display: none; }` but bootstrap.min.css set `[hidden] { display: none !important; }` so we also need the `!important` here to be able to override the default hidden behavior on the sphinx rendered scikit-learn.org. See: https://github.com/scikit-learn/scikit-learn/issues/21755 */display: inline-block !important;position: relative;}#sk-container-id-5 div.sk-text-repr-fallback {display: none;}</style><div id=\"sk-container-id-5\" class=\"sk-top-container\"><div class=\"sk-text-repr-fallback\"><pre>LinearRegression()</pre><b>In a Jupyter environment, please rerun this cell to show the HTML representation or trust the notebook. <br />On GitHub, the HTML representation is unable to render, please try loading this page with nbviewer.org.</b></div><div class=\"sk-container\" hidden><div class=\"sk-item\"><div class=\"sk-estimator sk-toggleable\"><input class=\"sk-toggleable__control sk-hidden--visually\" id=\"sk-estimator-id-5\" type=\"checkbox\" checked><label for=\"sk-estimator-id-5\" class=\"sk-toggleable__label sk-toggleable__label-arrow\">LinearRegression</label><div class=\"sk-toggleable__content\"><pre>LinearRegression()</pre></div></div></div></div></div>"
      ],
      "text/plain": [
       "LinearRegression()"
      ]
     },
     "execution_count": 167,
     "metadata": {},
     "output_type": "execute_result"
    }
   ],
   "source": [
    "model.fit(x_train, y_train)"
   ]
  },
  {
   "cell_type": "code",
   "execution_count": 168,
   "id": "46810644-7412-4d3a-921e-6f6a4c1420f4",
   "metadata": {},
   "outputs": [
    {
     "data": {
      "text/plain": [
       "array([ 1.43218745e-02,  1.44191569e-02,  5.64865342e-05, -4.77085270e-03,\n",
       "        1.96120066e-03,  7.25231802e-04, -6.99528855e-03, -3.93506057e-05,\n",
       "       -1.48662949e-02, -1.33549020e-01,  4.12126408e-06, -1.60903726e-04,\n",
       "       -7.56067325e-03,  8.87960749e-03,  1.13383891e-04,  1.44017188e-02,\n",
       "        1.77797078e-05,  1.37416348e-02,  1.09560884e-04, -1.43369827e-02,\n",
       "        9.29638528e-03,  1.14673793e-04,  1.11100351e-02,  1.45524595e-04])"
      ]
     },
     "execution_count": 168,
     "metadata": {},
     "output_type": "execute_result"
    }
   ],
   "source": [
    "model.coef_"
   ]
  },
  {
   "cell_type": "code",
   "execution_count": 169,
   "id": "0b4e3a0d-3dba-4045-b0b1-74732a8a6bac",
   "metadata": {},
   "outputs": [
    {
     "data": {
      "text/plain": [
       "0.7198782951484712"
      ]
     },
     "execution_count": 169,
     "metadata": {},
     "output_type": "execute_result"
    }
   ],
   "source": [
    "model.intercept_"
   ]
  },
  {
   "cell_type": "code",
   "execution_count": 170,
   "id": "bc87523b-57fd-4fbc-ad91-3076d17c7f11",
   "metadata": {},
   "outputs": [],
   "source": [
    "predictions = model.predict(x_test)\n",
    "predictions_df = pd.DataFrame({\"original data\":y_test,\n",
    "                             \"predicted data\":predictions})"
   ]
  },
  {
   "cell_type": "code",
   "execution_count": 171,
   "id": "f947a631-6630-4f59-928e-6597b0c9e9ad",
   "metadata": {},
   "outputs": [
    {
     "data": {
      "text/html": [
       "<div>\n",
       "<style scoped>\n",
       "    .dataframe tbody tr th:only-of-type {\n",
       "        vertical-align: middle;\n",
       "    }\n",
       "\n",
       "    .dataframe tbody tr th {\n",
       "        vertical-align: top;\n",
       "    }\n",
       "\n",
       "    .dataframe thead th {\n",
       "        text-align: right;\n",
       "    }\n",
       "</style>\n",
       "<table border=\"1\" class=\"dataframe\">\n",
       "  <thead>\n",
       "    <tr style=\"text-align: right;\">\n",
       "      <th></th>\n",
       "      <th>original data</th>\n",
       "      <th>predicted data</th>\n",
       "    </tr>\n",
       "  </thead>\n",
       "  <tbody>\n",
       "    <tr>\n",
       "      <th>3341409</th>\n",
       "      <td>0.3704</td>\n",
       "      <td>0.577380</td>\n",
       "    </tr>\n",
       "    <tr>\n",
       "      <th>3849910</th>\n",
       "      <td>0.6957</td>\n",
       "      <td>0.595431</td>\n",
       "    </tr>\n",
       "    <tr>\n",
       "      <th>1996863</th>\n",
       "      <td>0.6809</td>\n",
       "      <td>0.454712</td>\n",
       "    </tr>\n",
       "    <tr>\n",
       "      <th>2757442</th>\n",
       "      <td>0.6170</td>\n",
       "      <td>0.615893</td>\n",
       "    </tr>\n",
       "    <tr>\n",
       "      <th>2027333</th>\n",
       "      <td>0.9200</td>\n",
       "      <td>0.785329</td>\n",
       "    </tr>\n",
       "    <tr>\n",
       "      <th>3879119</th>\n",
       "      <td>0.1458</td>\n",
       "      <td>0.223577</td>\n",
       "    </tr>\n",
       "    <tr>\n",
       "      <th>870533</th>\n",
       "      <td>0.2143</td>\n",
       "      <td>0.376320</td>\n",
       "    </tr>\n",
       "    <tr>\n",
       "      <th>2202804</th>\n",
       "      <td>0.0674</td>\n",
       "      <td>0.195569</td>\n",
       "    </tr>\n",
       "    <tr>\n",
       "      <th>2626728</th>\n",
       "      <td>0.1978</td>\n",
       "      <td>0.181229</td>\n",
       "    </tr>\n",
       "    <tr>\n",
       "      <th>2797374</th>\n",
       "      <td>0.6667</td>\n",
       "      <td>0.580061</td>\n",
       "    </tr>\n",
       "    <tr>\n",
       "      <th>3648429</th>\n",
       "      <td>0.5385</td>\n",
       "      <td>0.632307</td>\n",
       "    </tr>\n",
       "  </tbody>\n",
       "</table>\n",
       "</div>"
      ],
      "text/plain": [
       "         original data  predicted data\n",
       "3341409         0.3704        0.577380\n",
       "3849910         0.6957        0.595431\n",
       "1996863         0.6809        0.454712\n",
       "2757442         0.6170        0.615893\n",
       "2027333         0.9200        0.785329\n",
       "3879119         0.1458        0.223577\n",
       "870533          0.2143        0.376320\n",
       "2202804         0.0674        0.195569\n",
       "2626728         0.1978        0.181229\n",
       "2797374         0.6667        0.580061\n",
       "3648429         0.5385        0.632307"
      ]
     },
     "execution_count": 171,
     "metadata": {},
     "output_type": "execute_result"
    }
   ],
   "source": [
    "predictions_df.head(11)"
   ]
  },
  {
   "cell_type": "code",
   "execution_count": 172,
   "id": "a85651e8-f60b-4418-9069-65d95360ebbf",
   "metadata": {},
   "outputs": [],
   "source": [
    "from sklearn.metrics import mean_squared_error"
   ]
  },
  {
   "cell_type": "code",
   "execution_count": 173,
   "id": "542d544d-1950-4c8e-87d0-4fb68dc8a349",
   "metadata": {},
   "outputs": [],
   "source": [
    "import numpy as np\n",
    "data_pred = model.predict(x_test)\n",
    "mse = mean_squared_error(y_test,data_pred)\n",
    "rmse = np.sqrt(mse)"
   ]
  },
  {
   "cell_type": "code",
   "execution_count": 174,
   "id": "ca9f2754-17e8-4d28-8eef-99fb9d6613f6",
   "metadata": {},
   "outputs": [
    {
     "data": {
      "text/plain": [
       "0.12651551017791898"
      ]
     },
     "execution_count": 174,
     "metadata": {},
     "output_type": "execute_result"
    }
   ],
   "source": [
    "rmse"
   ]
  },
  {
   "cell_type": "code",
   "execution_count": 175,
   "id": "55a26a1a-2375-4a86-94c5-dc5901d7c2c7",
   "metadata": {},
   "outputs": [],
   "source": [
    "from sklearn.model_selection import cross_val_score\n",
    "\n",
    "scores = cross_val_score(model, x_train, y_train, scoring = 'neg_mean_squared_error', cv = 10)\n",
    "rmse_scores = np.sqrt(-scores)"
   ]
  },
  {
   "cell_type": "code",
   "execution_count": 176,
   "id": "8b60a316-ca52-404e-9322-569189c205a6",
   "metadata": {},
   "outputs": [
    {
     "data": {
      "text/plain": [
       "[0.1267541687331215,\n",
       " 0.1259562983498795,\n",
       " 0.12651077319792753,\n",
       " 0.12641305323128232,\n",
       " 0.12656354803564412,\n",
       " 0.126727427204763,\n",
       " 0.12696114080440507,\n",
       " 0.12642738966196249,\n",
       " 0.1264931176451001,\n",
       " 0.1267888431323404]"
      ]
     },
     "execution_count": 176,
     "metadata": {},
     "output_type": "execute_result"
    }
   ],
   "source": [
    "list(rmse_scores)"
   ]
  },
  {
   "cell_type": "code",
   "execution_count": 177,
   "id": "ae1c6a98-cc40-44a4-89ba-5c10f04d7292",
   "metadata": {},
   "outputs": [],
   "source": [
    "def print_scores(scores):\n",
    "    print(\"Scores :\",scores)\n",
    "    print(\"Mean :\",scores.mean())\n",
    "    print(\"Standard Deviavtion :\",scores.std())"
   ]
  },
  {
   "cell_type": "code",
   "execution_count": 178,
   "id": "0b43e80f-b203-4503-95e3-b054ae3e9f33",
   "metadata": {},
   "outputs": [
    {
     "name": "stdout",
     "output_type": "stream",
     "text": [
      "Scores : [-0.01606662 -0.01586499 -0.01600498 -0.01598026 -0.01601833 -0.01605984\n",
      " -0.01611913 -0.01598388 -0.01600051 -0.01607541]\n",
      "Mean : -0.01601739523304383\n",
      "Standard Deviavtion : 6.641575731648228e-05\n"
     ]
    }
   ],
   "source": [
    "print_scores(scores)"
   ]
  },
  {
   "cell_type": "code",
   "execution_count": 135,
   "id": "97cab7d2-368e-45e4-9a82-d18d7aa9dea7",
   "metadata": {},
   "outputs": [],
   "source": [
    "##DECISION TREE"
   ]
  },
  {
   "cell_type": "code",
   "execution_count": 179,
   "id": "ec64a786-2e2a-41dd-8ff9-7e9524881c69",
   "metadata": {},
   "outputs": [],
   "source": [
    "from sklearn.tree import DecisionTreeRegressor\n",
    "dcstree = DecisionTreeRegressor()"
   ]
  },
  {
   "cell_type": "code",
   "execution_count": 180,
   "id": "a28ef1ef-335c-4b9d-bea0-11103ce8a369",
   "metadata": {},
   "outputs": [
    {
     "data": {
      "text/html": [
       "<style>#sk-container-id-6 {color: black;background-color: white;}#sk-container-id-6 pre{padding: 0;}#sk-container-id-6 div.sk-toggleable {background-color: white;}#sk-container-id-6 label.sk-toggleable__label {cursor: pointer;display: block;width: 100%;margin-bottom: 0;padding: 0.3em;box-sizing: border-box;text-align: center;}#sk-container-id-6 label.sk-toggleable__label-arrow:before {content: \"▸\";float: left;margin-right: 0.25em;color: #696969;}#sk-container-id-6 label.sk-toggleable__label-arrow:hover:before {color: black;}#sk-container-id-6 div.sk-estimator:hover label.sk-toggleable__label-arrow:before {color: black;}#sk-container-id-6 div.sk-toggleable__content {max-height: 0;max-width: 0;overflow: hidden;text-align: left;background-color: #f0f8ff;}#sk-container-id-6 div.sk-toggleable__content pre {margin: 0.2em;color: black;border-radius: 0.25em;background-color: #f0f8ff;}#sk-container-id-6 input.sk-toggleable__control:checked~div.sk-toggleable__content {max-height: 200px;max-width: 100%;overflow: auto;}#sk-container-id-6 input.sk-toggleable__control:checked~label.sk-toggleable__label-arrow:before {content: \"▾\";}#sk-container-id-6 div.sk-estimator input.sk-toggleable__control:checked~label.sk-toggleable__label {background-color: #d4ebff;}#sk-container-id-6 div.sk-label input.sk-toggleable__control:checked~label.sk-toggleable__label {background-color: #d4ebff;}#sk-container-id-6 input.sk-hidden--visually {border: 0;clip: rect(1px 1px 1px 1px);clip: rect(1px, 1px, 1px, 1px);height: 1px;margin: -1px;overflow: hidden;padding: 0;position: absolute;width: 1px;}#sk-container-id-6 div.sk-estimator {font-family: monospace;background-color: #f0f8ff;border: 1px dotted black;border-radius: 0.25em;box-sizing: border-box;margin-bottom: 0.5em;}#sk-container-id-6 div.sk-estimator:hover {background-color: #d4ebff;}#sk-container-id-6 div.sk-parallel-item::after {content: \"\";width: 100%;border-bottom: 1px solid gray;flex-grow: 1;}#sk-container-id-6 div.sk-label:hover label.sk-toggleable__label {background-color: #d4ebff;}#sk-container-id-6 div.sk-serial::before {content: \"\";position: absolute;border-left: 1px solid gray;box-sizing: border-box;top: 0;bottom: 0;left: 50%;z-index: 0;}#sk-container-id-6 div.sk-serial {display: flex;flex-direction: column;align-items: center;background-color: white;padding-right: 0.2em;padding-left: 0.2em;position: relative;}#sk-container-id-6 div.sk-item {position: relative;z-index: 1;}#sk-container-id-6 div.sk-parallel {display: flex;align-items: stretch;justify-content: center;background-color: white;position: relative;}#sk-container-id-6 div.sk-item::before, #sk-container-id-6 div.sk-parallel-item::before {content: \"\";position: absolute;border-left: 1px solid gray;box-sizing: border-box;top: 0;bottom: 0;left: 50%;z-index: -1;}#sk-container-id-6 div.sk-parallel-item {display: flex;flex-direction: column;z-index: 1;position: relative;background-color: white;}#sk-container-id-6 div.sk-parallel-item:first-child::after {align-self: flex-end;width: 50%;}#sk-container-id-6 div.sk-parallel-item:last-child::after {align-self: flex-start;width: 50%;}#sk-container-id-6 div.sk-parallel-item:only-child::after {width: 0;}#sk-container-id-6 div.sk-dashed-wrapped {border: 1px dashed gray;margin: 0 0.4em 0.5em 0.4em;box-sizing: border-box;padding-bottom: 0.4em;background-color: white;}#sk-container-id-6 div.sk-label label {font-family: monospace;font-weight: bold;display: inline-block;line-height: 1.2em;}#sk-container-id-6 div.sk-label-container {text-align: center;}#sk-container-id-6 div.sk-container {/* jupyter's `normalize.less` sets `[hidden] { display: none; }` but bootstrap.min.css set `[hidden] { display: none !important; }` so we also need the `!important` here to be able to override the default hidden behavior on the sphinx rendered scikit-learn.org. See: https://github.com/scikit-learn/scikit-learn/issues/21755 */display: inline-block !important;position: relative;}#sk-container-id-6 div.sk-text-repr-fallback {display: none;}</style><div id=\"sk-container-id-6\" class=\"sk-top-container\"><div class=\"sk-text-repr-fallback\"><pre>DecisionTreeRegressor()</pre><b>In a Jupyter environment, please rerun this cell to show the HTML representation or trust the notebook. <br />On GitHub, the HTML representation is unable to render, please try loading this page with nbviewer.org.</b></div><div class=\"sk-container\" hidden><div class=\"sk-item\"><div class=\"sk-estimator sk-toggleable\"><input class=\"sk-toggleable__control sk-hidden--visually\" id=\"sk-estimator-id-6\" type=\"checkbox\" checked><label for=\"sk-estimator-id-6\" class=\"sk-toggleable__label sk-toggleable__label-arrow\">DecisionTreeRegressor</label><div class=\"sk-toggleable__content\"><pre>DecisionTreeRegressor()</pre></div></div></div></div></div>"
      ],
      "text/plain": [
       "DecisionTreeRegressor()"
      ]
     },
     "execution_count": 180,
     "metadata": {},
     "output_type": "execute_result"
    }
   ],
   "source": [
    "dcstree.fit(x_train, y_train)"
   ]
  },
  {
   "cell_type": "code",
   "execution_count": 181,
   "id": "65c2a11b-c2ad-496d-8cc7-2b4f49edaef4",
   "metadata": {},
   "outputs": [],
   "source": [
    "predictions_dcs = dcstree.predict(x_test)\n",
    "predictions_dcs_df = pd.DataFrame({\"original data\":y_test,\n",
    "                             \"predicted data\":predictions_dcs})"
   ]
  },
  {
   "cell_type": "code",
   "execution_count": 182,
   "id": "6aab19ec-6672-4a36-a75e-3b4c977e5434",
   "metadata": {},
   "outputs": [
    {
     "data": {
      "text/html": [
       "<div>\n",
       "<style scoped>\n",
       "    .dataframe tbody tr th:only-of-type {\n",
       "        vertical-align: middle;\n",
       "    }\n",
       "\n",
       "    .dataframe tbody tr th {\n",
       "        vertical-align: top;\n",
       "    }\n",
       "\n",
       "    .dataframe thead th {\n",
       "        text-align: right;\n",
       "    }\n",
       "</style>\n",
       "<table border=\"1\" class=\"dataframe\">\n",
       "  <thead>\n",
       "    <tr style=\"text-align: right;\">\n",
       "      <th></th>\n",
       "      <th>original data</th>\n",
       "      <th>predicted data</th>\n",
       "    </tr>\n",
       "  </thead>\n",
       "  <tbody>\n",
       "    <tr>\n",
       "      <th>3341409</th>\n",
       "      <td>0.3704</td>\n",
       "      <td>0.5714</td>\n",
       "    </tr>\n",
       "    <tr>\n",
       "      <th>3849910</th>\n",
       "      <td>0.6957</td>\n",
       "      <td>0.6458</td>\n",
       "    </tr>\n",
       "    <tr>\n",
       "      <th>1996863</th>\n",
       "      <td>0.6809</td>\n",
       "      <td>0.4783</td>\n",
       "    </tr>\n",
       "    <tr>\n",
       "      <th>2757442</th>\n",
       "      <td>0.6170</td>\n",
       "      <td>0.6304</td>\n",
       "    </tr>\n",
       "    <tr>\n",
       "      <th>2027333</th>\n",
       "      <td>0.9200</td>\n",
       "      <td>0.7500</td>\n",
       "    </tr>\n",
       "    <tr>\n",
       "      <th>3879119</th>\n",
       "      <td>0.1458</td>\n",
       "      <td>0.1354</td>\n",
       "    </tr>\n",
       "    <tr>\n",
       "      <th>870533</th>\n",
       "      <td>0.2143</td>\n",
       "      <td>0.2333</td>\n",
       "    </tr>\n",
       "    <tr>\n",
       "      <th>2202804</th>\n",
       "      <td>0.0674</td>\n",
       "      <td>0.0786</td>\n",
       "    </tr>\n",
       "    <tr>\n",
       "      <th>2626728</th>\n",
       "      <td>0.1978</td>\n",
       "      <td>0.2308</td>\n",
       "    </tr>\n",
       "    <tr>\n",
       "      <th>2797374</th>\n",
       "      <td>0.6667</td>\n",
       "      <td>0.6042</td>\n",
       "    </tr>\n",
       "    <tr>\n",
       "      <th>3648429</th>\n",
       "      <td>0.5385</td>\n",
       "      <td>0.5000</td>\n",
       "    </tr>\n",
       "  </tbody>\n",
       "</table>\n",
       "</div>"
      ],
      "text/plain": [
       "         original data  predicted data\n",
       "3341409         0.3704          0.5714\n",
       "3849910         0.6957          0.6458\n",
       "1996863         0.6809          0.4783\n",
       "2757442         0.6170          0.6304\n",
       "2027333         0.9200          0.7500\n",
       "3879119         0.1458          0.1354\n",
       "870533          0.2143          0.2333\n",
       "2202804         0.0674          0.0786\n",
       "2626728         0.1978          0.2308\n",
       "2797374         0.6667          0.6042\n",
       "3648429         0.5385          0.5000"
      ]
     },
     "execution_count": 182,
     "metadata": {},
     "output_type": "execute_result"
    }
   ],
   "source": [
    "predictions_dcs_df.head(11)"
   ]
  },
  {
   "cell_type": "code",
   "execution_count": 184,
   "id": "66ac3634-2f78-4c29-a143-fd99730badb8",
   "metadata": {},
   "outputs": [],
   "source": [
    "from sklearn.metrics import mean_squared_error"
   ]
  },
  {
   "cell_type": "code",
   "execution_count": 185,
   "id": "ca970a08-3fc0-4697-994e-8dc348134832",
   "metadata": {},
   "outputs": [],
   "source": [
    "import numpy as np\n",
    "data_pred_dcs = dcstree.predict(x_test)\n",
    "mse = mean_squared_error(y_test,data_pred_dcs)\n",
    "rmse_dcs = np.sqrt(mse)"
   ]
  },
  {
   "cell_type": "code",
   "execution_count": 186,
   "id": "1f97e029-090a-422d-a6c9-d2ca21d127f9",
   "metadata": {},
   "outputs": [
    {
     "data": {
      "text/plain": [
       "0.1183651792587212"
      ]
     },
     "execution_count": 186,
     "metadata": {},
     "output_type": "execute_result"
    }
   ],
   "source": [
    "rmse_dcs"
   ]
  },
  {
   "cell_type": "code",
   "execution_count": 187,
   "id": "f806c9e5-20bf-4306-a1d3-1512faadf3e1",
   "metadata": {},
   "outputs": [],
   "source": [
    "from sklearn.model_selection import cross_val_score\n",
    "\n",
    "scores_dcs = cross_val_score(model, x_train, y_train, scoring = 'neg_mean_squared_error', cv = 10)\n",
    "rmse_scores_dcs = np.sqrt(-scores_dcs)"
   ]
  },
  {
   "cell_type": "code",
   "execution_count": 188,
   "id": "5e8bef11-cd7c-4236-8065-142bf143c9eb",
   "metadata": {},
   "outputs": [
    {
     "data": {
      "text/plain": [
       "[0.1267541687331215,\n",
       " 0.1259562983498795,\n",
       " 0.12651077319792753,\n",
       " 0.12641305323128232,\n",
       " 0.12656354803564412,\n",
       " 0.126727427204763,\n",
       " 0.12696114080440507,\n",
       " 0.12642738966196249,\n",
       " 0.1264931176451001,\n",
       " 0.1267888431323404]"
      ]
     },
     "execution_count": 188,
     "metadata": {},
     "output_type": "execute_result"
    }
   ],
   "source": [
    "list(rmse_scores_dcs)"
   ]
  },
  {
   "cell_type": "code",
   "execution_count": 190,
   "id": "7795f995-df3d-44da-b73e-e5859082e984",
   "metadata": {},
   "outputs": [],
   "source": [
    "def print_scores_dcs(scores_dcs):\n",
    "    print(\"Scores :\",scores_dcs)\n",
    "    print(\"Mean :\",scores_dcs.mean())\n",
    "    print(\"Standard Deviavtion :\",scores_dcs.std())"
   ]
  },
  {
   "cell_type": "code",
   "execution_count": 191,
   "id": "5ef89eac-b4fa-43b9-9662-ad7c4a3b4bbc",
   "metadata": {},
   "outputs": [
    {
     "name": "stdout",
     "output_type": "stream",
     "text": [
      "Scores : [-0.01606662 -0.01586499 -0.01600498 -0.01598026 -0.01601833 -0.01605984\n",
      " -0.01611913 -0.01598388 -0.01600051 -0.01607541]\n",
      "Mean : -0.01601739523304383\n",
      "Standard Deviavtion : 6.641575731648228e-05\n"
     ]
    }
   ],
   "source": [
    "print_scores_dcs(scores_dcs)"
   ]
  },
  {
   "cell_type": "markdown",
   "id": "eee66330-8e42-433a-a49b-c05fa2b6a5e4",
   "metadata": {},
   "source": [
    "#### Graph for Correlation Detection ( Extra from above ) "
   ]
  },
  {
   "cell_type": "code",
   "execution_count": 62,
   "id": "4e256e5f-6cba-4d3b-b3bb-4de2da3c2cb1",
   "metadata": {},
   "outputs": [
    {
     "data": {
      "text/plain": [
       "array([[<Axes: title={'center': 'assists'}>,\n",
       "        <Axes: title={'center': 'boosts'}>,\n",
       "        <Axes: title={'center': 'damageDealt'}>,\n",
       "        <Axes: title={'center': 'DBNOs'}>,\n",
       "        <Axes: title={'center': 'headshotKills'}>],\n",
       "       [<Axes: title={'center': 'heals'}>,\n",
       "        <Axes: title={'center': 'killPlace'}>,\n",
       "        <Axes: title={'center': 'killPoints'}>,\n",
       "        <Axes: title={'center': 'kills'}>,\n",
       "        <Axes: title={'center': 'killStreaks'}>],\n",
       "       [<Axes: title={'center': 'longestKill'}>,\n",
       "        <Axes: title={'center': 'matchDuration'}>,\n",
       "        <Axes: title={'center': 'maxPlace'}>,\n",
       "        <Axes: title={'center': 'numGroups'}>,\n",
       "        <Axes: title={'center': 'rankPoints'}>],\n",
       "       [<Axes: title={'center': 'revives'}>,\n",
       "        <Axes: title={'center': 'rideDistance'}>,\n",
       "        <Axes: title={'center': 'roadKills'}>,\n",
       "        <Axes: title={'center': 'swimDistance'}>,\n",
       "        <Axes: title={'center': 'teamKills'}>],\n",
       "       [<Axes: title={'center': 'vehicleDestroys'}>,\n",
       "        <Axes: title={'center': 'walkDistance'}>,\n",
       "        <Axes: title={'center': 'weaponsAcquired'}>,\n",
       "        <Axes: title={'center': 'winPoints'}>,\n",
       "        <Axes: title={'center': 'winPlacePerc'}>]], dtype=object)"
      ]
     },
     "execution_count": 62,
     "metadata": {},
     "output_type": "execute_result"
    },
    {
     "data": {
      "image/png": "[encoded data removed]",
      "text/plain": [
       "<Figure size 2000x1500 with 25 Axes>"
      ]
     },
     "metadata": {},
     "output_type": "display_data"
    }
   ],
   "source": [
    "dt.hist(bins = 25, figsize = (20,15))"
   ]
  }
 ],
 "metadata": {
  "kernelspec": {
   "display_name": "Python 3 (ipykernel)",
   "language": "python",
   "name": "python3"
  },
  "language_info": {
   "codemirror_mode": {
    "name": "ipython",
    "version": 3
   },
   "file_extension": ".py",
   "mimetype": "text/x-python",
   "name": "python",
   "nbconvert_exporter": "python",
   "pygments_lexer": "ipython3",
   "version": "3.11.7"
  }
 },
 "nbformat": 4,
 "nbformat_minor": 5
}
